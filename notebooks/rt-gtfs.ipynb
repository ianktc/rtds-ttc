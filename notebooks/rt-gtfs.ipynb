{
 "cells": [
  {
   "cell_type": "code",
   "execution_count": null,
   "metadata": {},
   "outputs": [],
   "source": [
    "import requests\n",
    "import sqlite3\n",
    "from google.transit import gtfs_realtime_pb2"
   ]
  },
  {
   "cell_type": "code",
   "execution_count": 47,
   "metadata": {},
   "outputs": [],
   "source": [
    "def parse_feed(feed):\n",
    "    vehicle_positions = []\n",
    "    for entity in feed.entity:\n",
    "        if entity.HasField('vehicle'):\n",
    "            vehicle = entity.vehicle\n",
    "            # print(\"occupancy is \", str(vehicle.occupancy_status))\n",
    "            vehicle_positions.append({\n",
    "                'id': entity.id,\n",
    "                'vehicle_id': vehicle.vehicle.id,\n",
    "                'trip_id': vehicle.trip.trip_id,\n",
    "                'route_id': vehicle.trip.route_id,\n",
    "                'latitude': vehicle.position.latitude,\n",
    "                'longitude': vehicle.position.longitude,\n",
    "                'bearing': vehicle.position.bearing,\n",
    "                'speed': vehicle.position.speed,\n",
    "                'timestamp': vehicle.timestamp,\n",
    "                'occupancy_status': str(vehicle.occupancy_status)\n",
    "            })\n",
    "    return vehicle_positions"
   ]
  },
  {
   "cell_type": "code",
   "execution_count": 48,
   "metadata": {},
   "outputs": [],
   "source": [
    "def insert_vehicle_positions_table(cursor, data):\n",
    "    cursor.execute('''\n",
    "    INSERT INTO vehicle_positions (\n",
    "    id, vehicle_id, trip_id, route_id, timestamp,\n",
    "    latitude, longitude, bearing, speed, occupancy_status\n",
    "    ) VALUES (?, ?, ?, ?, ?, ?, ?, ?, ?, ?)\n",
    "    ''', (\n",
    "        data['id'], data['vehicle_id'], data['trip_id'], \n",
    "        data['route_id'], data['timestamp'], data['latitude'], \n",
    "        data['longitude'], data['bearing'], data['speed'], \n",
    "        data['occupancy_status']\n",
    "    ))"
   ]
  },
  {
   "cell_type": "code",
   "execution_count": 49,
   "metadata": {},
   "outputs": [
    {
     "name": "stdout",
     "output_type": "stream",
     "text": [
      "1515\n"
     ]
    }
   ],
   "source": [
    "# Parse realtime protobuf feed\n",
    "feed = gtfs_realtime_pb2.FeedMessage()\n",
    "response = requests.get('https://bustime.ttc.ca/gtfsrt/vehicles')\n",
    "feed.ParseFromString(response.content)\n",
    "\n",
    "vehicle_positions = parse_feed(feed)\n",
    "print(len(vehicle_positions))"
   ]
  },
  {
   "cell_type": "code",
   "execution_count": 50,
   "metadata": {},
   "outputs": [],
   "source": [
    "conn = sqlite3.connect('../rtds-ttc.db')\n",
    "cursor = conn.cursor()\n",
    "\n",
    "for record in vehicle_positions:\n",
    "    insert_vehicle_positions_table(cursor, record)\n",
    "\n",
    "conn.commit()\n",
    "conn.close()\n"
   ]
  },
  {
   "cell_type": "code",
   "execution_count": 51,
   "metadata": {},
   "outputs": [
    {
     "ename": "ProgrammingError",
     "evalue": "Cannot operate on a closed database.",
     "output_type": "error",
     "traceback": [
      "\u001b[0;31m---------------------------------------------------------------------------\u001b[0m",
      "\u001b[0;31mProgrammingError\u001b[0m                          Traceback (most recent call last)",
      "Cell \u001b[0;32mIn[51], line 1\u001b[0m\n\u001b[0;32m----> 1\u001b[0m \u001b[43mconn\u001b[49m\u001b[38;5;241;43m.\u001b[39;49m\u001b[43mcommit\u001b[49m\u001b[43m(\u001b[49m\u001b[43m)\u001b[49m\n\u001b[1;32m      2\u001b[0m conn\u001b[38;5;241m.\u001b[39mclose()\n",
      "\u001b[0;31mProgrammingError\u001b[0m: Cannot operate on a closed database."
     ]
    }
   ],
   "source": [
    "conn.commit()\n",
    "conn.close()"
   ]
  }
 ],
 "metadata": {
  "kernelspec": {
   "display_name": "Python 3",
   "language": "python",
   "name": "python3"
  },
  "language_info": {
   "codemirror_mode": {
    "name": "ipython",
    "version": 3
   },
   "file_extension": ".py",
   "mimetype": "text/x-python",
   "name": "python",
   "nbconvert_exporter": "python",
   "pygments_lexer": "ipython3",
   "version": "3.10.12"
  }
 },
 "nbformat": 4,
 "nbformat_minor": 2
}
